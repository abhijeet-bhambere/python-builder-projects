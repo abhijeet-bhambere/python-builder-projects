{
 "cells": [
  {
   "cell_type": "code",
   "execution_count": 10,
   "id": "873bb129",
   "metadata": {},
   "outputs": [],
   "source": [
    "import io\n",
    "import os"
   ]
  },
  {
   "cell_type": "code",
   "execution_count": 11,
   "id": "ef1ee39f",
   "metadata": {},
   "outputs": [
    {
     "data": {
      "text/plain": [
       "2"
      ]
     },
     "execution_count": 11,
     "metadata": {},
     "output_type": "execute_result"
    }
   ],
   "source": [
    "1 + 1"
   ]
  },
  {
   "cell_type": "code",
   "execution_count": 12,
   "id": "c0a2ef1f",
   "metadata": {},
   "outputs": [],
   "source": [
    "# inp = input(\"Enter value\")\n",
    "# print(f\"User entered: {inp}\")\n",
    "# print(f\"Dtype of input is: {type(inp)}\")"
   ]
  },
  {
   "cell_type": "code",
   "execution_count": 13,
   "id": "09bf4f0c",
   "metadata": {},
   "outputs": [],
   "source": [
    "alist = [\"aa\",\"CC\",\"dd\",\"bb\"]"
   ]
  },
  {
   "cell_type": "code",
   "execution_count": 14,
   "id": "472d4188",
   "metadata": {},
   "outputs": [
    {
     "data": {
      "text/plain": [
       "['CC', 'aa', 'bb', 'dd']"
      ]
     },
     "execution_count": 14,
     "metadata": {},
     "output_type": "execute_result"
    }
   ],
   "source": [
    "sorted(alist ,key= lambda x : x[0])"
   ]
  },
  {
   "cell_type": "code",
   "execution_count": 15,
   "id": "05b43a73",
   "metadata": {},
   "outputs": [
    {
     "data": {
      "text/plain": [
       "4"
      ]
     },
     "execution_count": 15,
     "metadata": {},
     "output_type": "execute_result"
    }
   ],
   "source": [
    "len(alist)"
   ]
  },
  {
   "cell_type": "code",
   "execution_count": 16,
   "id": "49f3cf69",
   "metadata": {},
   "outputs": [
    {
     "data": {
      "text/plain": [
       "True"
      ]
     },
     "execution_count": 16,
     "metadata": {},
     "output_type": "execute_result"
    }
   ],
   "source": [
    "10 not in range(1,len(alist)+1)"
   ]
  },
  {
   "cell_type": "code",
   "execution_count": 17,
   "id": "33c5df22",
   "metadata": {},
   "outputs": [
    {
     "data": {
      "text/plain": [
       "['aa', 'CC', 'dd', 'bb']"
      ]
     },
     "execution_count": 17,
     "metadata": {},
     "output_type": "execute_result"
    }
   ],
   "source": [
    "alist"
   ]
  },
  {
   "cell_type": "code",
   "execution_count": 18,
   "id": "76274a1f",
   "metadata": {},
   "outputs": [
    {
     "data": {
      "text/plain": [
       "'CC'"
      ]
     },
     "execution_count": 18,
     "metadata": {},
     "output_type": "execute_result"
    }
   ],
   "source": [
    "alist.pop(1)"
   ]
  },
  {
   "cell_type": "code",
   "execution_count": 19,
   "id": "2942c990",
   "metadata": {},
   "outputs": [
    {
     "data": {
      "text/plain": [
       "['aa', 'dd', 'bb']"
      ]
     },
     "execution_count": 19,
     "metadata": {},
     "output_type": "execute_result"
    }
   ],
   "source": [
    "alist\n"
   ]
  },
  {
   "cell_type": "code",
   "execution_count": 20,
   "id": "d0f01d64",
   "metadata": {},
   "outputs": [
    {
     "data": {
      "text/plain": [
       "'bb'"
      ]
     },
     "execution_count": 20,
     "metadata": {},
     "output_type": "execute_result"
    }
   ],
   "source": [
    "alist[-1]"
   ]
  },
  {
   "cell_type": "markdown",
   "id": "4ec1a2d5",
   "metadata": {},
   "source": [
    "### Testing txt file handling"
   ]
  },
  {
   "cell_type": "code",
   "execution_count": 21,
   "id": "fecf6149",
   "metadata": {},
   "outputs": [],
   "source": [
    "with open('some_test.txt','w') as f:\n",
    "    f.writelines(\"This is first line\\nThis is second line\")"
   ]
  },
  {
   "cell_type": "code",
   "execution_count": 22,
   "id": "839c6748",
   "metadata": {},
   "outputs": [],
   "source": [
    "# Adding each line of the sample alist to txt\n",
    "with open('some_test.txt','w') as f:\n",
    "    for each in alist:\n",
    "        f.write(each + \"\\n\")    \n",
    "    # print(each)"
   ]
  },
  {
   "cell_type": "code",
   "execution_count": 23,
   "id": "fbbf74bf",
   "metadata": {},
   "outputs": [],
   "source": [
    "with open(\"some_test.txt\",'r') as f:\n",
    "    line=f.readlines()\n",
    "    result = [x.strip() for x in line]\n",
    "    f.close()\n",
    "    "
   ]
  },
  {
   "cell_type": "code",
   "execution_count": 24,
   "id": "493f2f32",
   "metadata": {},
   "outputs": [
    {
     "data": {
      "text/plain": [
       "['aa', 'dd', 'bb']"
      ]
     },
     "execution_count": 24,
     "metadata": {},
     "output_type": "execute_result"
    }
   ],
   "source": [
    "result"
   ]
  },
  {
   "cell_type": "code",
   "execution_count": 25,
   "id": "9862ac6a",
   "metadata": {},
   "outputs": [
    {
     "data": {
      "text/plain": [
       "list"
      ]
     },
     "execution_count": 25,
     "metadata": {},
     "output_type": "execute_result"
    }
   ],
   "source": [
    "type(result)"
   ]
  },
  {
   "cell_type": "code",
   "execution_count": 26,
   "id": "d18b680f",
   "metadata": {},
   "outputs": [],
   "source": [
    "blist = ['aa', 'CC', 'dd', 'bb']"
   ]
  },
  {
   "cell_type": "code",
   "execution_count": 27,
   "id": "5739aed5",
   "metadata": {},
   "outputs": [
    {
     "name": "stdout",
     "output_type": "stream",
     "text": [
      "0 - aa\n",
      "1 - dd\n",
      "2 - bb\n"
     ]
    }
   ],
   "source": [
    "for every,val in enumerate(alist):\n",
    "    print(f\"{every} - {val}\")"
   ]
  },
  {
   "cell_type": "code",
   "execution_count": 28,
   "id": "8dda896a",
   "metadata": {},
   "outputs": [
    {
     "name": "stdout",
     "output_type": "stream",
     "text": [
      "c:\\Users\\abhijeet.bhambere\\Desktop\\Resources\\Builder_Phase\\python-builder-projects\\App1-ToDo App Starting\n"
     ]
    }
   ],
   "source": [
    "print(os.getcwd())"
   ]
  },
  {
   "cell_type": "code",
   "execution_count": 29,
   "id": "305f90f8",
   "metadata": {},
   "outputs": [],
   "source": [
    "adct = {\"a\":11, \"b\":22,\"c\":33}"
   ]
  },
  {
   "cell_type": "code",
   "execution_count": 30,
   "id": "ebcd19be",
   "metadata": {},
   "outputs": [
    {
     "name": "stdout",
     "output_type": "stream",
     "text": [
      "a 11\n",
      "b 22\n",
      "c 33\n"
     ]
    }
   ],
   "source": [
    "for key,val in adct.items():\n",
    "    print(key,val)"
   ]
  },
  {
   "cell_type": "code",
   "execution_count": null,
   "id": "81f391e1",
   "metadata": {},
   "outputs": [],
   "source": [
    "astr = \"an aeroplane!\""
   ]
  },
  {
   "cell_type": "code",
   "execution_count": 69,
   "id": "053b8402",
   "metadata": {},
   "outputs": [
    {
     "name": "stdout",
     "output_type": "stream",
     "text": [
      "aeroplane!\n",
      "2\n",
      "4\n"
     ]
    }
   ],
   "source": [
    "print(astr[3:])\n",
    "\n",
    "print(alist.index('bb'))\n",
    "\n",
    "print(astr.index(\"e\"))"
   ]
  },
  {
   "cell_type": "code",
   "execution_count": 78,
   "id": "ac78f984",
   "metadata": {},
   "outputs": [],
   "source": [
    "def checkif(n):\n",
    "    match n:\n",
    "        case 'aa':\n",
    "            return(\"yes\")\n",
    "        case 'z':\n",
    "            return(\"no\")\n",
    "        case _:\n",
    "            return \"not found\""
   ]
  },
  {
   "cell_type": "code",
   "execution_count": 79,
   "id": "824f7c3e",
   "metadata": {},
   "outputs": [
    {
     "data": {
      "text/plain": [
       "'yes'"
      ]
     },
     "execution_count": 79,
     "metadata": {},
     "output_type": "execute_result"
    }
   ],
   "source": [
    "checkif(n=\"aa\")"
   ]
  },
  {
   "cell_type": "code",
   "execution_count": 81,
   "id": "82f5550e",
   "metadata": {},
   "outputs": [
    {
     "name": "stdout",
     "output_type": "stream",
     "text": [
      "yes\n"
     ]
    }
   ],
   "source": [
    "match \"an aeroplane!\":\n",
    "    case 'an aeroplane!':\n",
    "        print(\"yes\")\n",
    "    case 'z':\n",
    "        print(\"no\")\n",
    "    case _:\n",
    "        print( \"not found\")"
   ]
  },
  {
   "cell_type": "code",
   "execution_count": 83,
   "id": "b1fc4ece",
   "metadata": {},
   "outputs": [
    {
     "name": "stdout",
     "output_type": "stream",
     "text": [
      "not found\n"
     ]
    }
   ],
   "source": [
    "if 'aa' in astr:\n",
    "    print(\"found\")\n",
    "else:\n",
    "    print(\"not found\")"
   ]
  },
  {
   "cell_type": "code",
   "execution_count": 86,
   "id": "02c3bc54",
   "metadata": {},
   "outputs": [],
   "source": [
    "bstr = \"99\""
   ]
  },
  {
   "cell_type": "code",
   "execution_count": 87,
   "id": "41806a9a",
   "metadata": {},
   "outputs": [
    {
     "data": {
      "text/plain": [
       "True"
      ]
     },
     "execution_count": 87,
     "metadata": {},
     "output_type": "execute_result"
    }
   ],
   "source": [
    "bstr.isdigit()"
   ]
  },
  {
   "cell_type": "code",
   "execution_count": 91,
   "id": "6e1ca52c",
   "metadata": {},
   "outputs": [],
   "source": [
    "anotherlist = ['aa', 'aa', 'bb', 'cc']"
   ]
  },
  {
   "cell_type": "code",
   "execution_count": 92,
   "id": "7746165d",
   "metadata": {},
   "outputs": [
    {
     "data": {
      "text/plain": [
       "2"
      ]
     },
     "execution_count": 92,
     "metadata": {},
     "output_type": "execute_result"
    }
   ],
   "source": [
    "anotherlist.count('aa')"
   ]
  },
  {
   "cell_type": "code",
   "execution_count": 93,
   "id": "cb703700",
   "metadata": {},
   "outputs": [],
   "source": [
    "list1 =[True, True, False]"
   ]
  },
  {
   "cell_type": "code",
   "execution_count": 94,
   "id": "9fad928e",
   "metadata": {},
   "outputs": [
    {
     "data": {
      "text/plain": [
       "2"
      ]
     },
     "execution_count": 94,
     "metadata": {},
     "output_type": "execute_result"
    }
   ],
   "source": [
    "sum(list1)\n"
   ]
  }
 ],
 "metadata": {
  "kernelspec": {
   "display_name": ".venv",
   "language": "python",
   "name": "python3"
  },
  "language_info": {
   "codemirror_mode": {
    "name": "ipython",
    "version": 3
   },
   "file_extension": ".py",
   "mimetype": "text/x-python",
   "name": "python",
   "nbconvert_exporter": "python",
   "pygments_lexer": "ipython3",
   "version": "3.13.5"
  }
 },
 "nbformat": 4,
 "nbformat_minor": 5
}
