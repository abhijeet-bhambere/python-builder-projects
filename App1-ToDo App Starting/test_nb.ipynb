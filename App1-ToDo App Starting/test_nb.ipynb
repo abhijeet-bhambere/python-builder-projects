{
 "cells": [
  {
   "cell_type": "code",
   "execution_count": 1,
   "id": "873bb129",
   "metadata": {},
   "outputs": [],
   "source": [
    "import io\n",
    "import os\n",
    "import time"
   ]
  },
  {
   "cell_type": "code",
   "execution_count": 2,
   "id": "ef1ee39f",
   "metadata": {},
   "outputs": [
    {
     "data": {
      "text/plain": [
       "2"
      ]
     },
     "execution_count": 2,
     "metadata": {},
     "output_type": "execute_result"
    }
   ],
   "source": [
    "1 + 1"
   ]
  },
  {
   "cell_type": "code",
   "execution_count": 3,
   "id": "c0a2ef1f",
   "metadata": {},
   "outputs": [],
   "source": [
    "# inp = input(\"Enter value\")\n",
    "# print(f\"User entered: {inp}\")\n",
    "# print(f\"Dtype of input is: {type(inp)}\")"
   ]
  },
  {
   "cell_type": "code",
   "execution_count": 4,
   "id": "09bf4f0c",
   "metadata": {},
   "outputs": [],
   "source": [
    "alist = [\"aa\",\"CC\",\"dd\",\"bb\"]"
   ]
  },
  {
   "cell_type": "code",
   "execution_count": 5,
   "id": "472d4188",
   "metadata": {},
   "outputs": [
    {
     "data": {
      "text/plain": [
       "['CC', 'aa', 'bb', 'dd']"
      ]
     },
     "execution_count": 5,
     "metadata": {},
     "output_type": "execute_result"
    }
   ],
   "source": [
    "sorted(alist ,key= lambda x : x[0])"
   ]
  },
  {
   "cell_type": "code",
   "execution_count": 6,
   "id": "05b43a73",
   "metadata": {},
   "outputs": [
    {
     "data": {
      "text/plain": [
       "4"
      ]
     },
     "execution_count": 6,
     "metadata": {},
     "output_type": "execute_result"
    }
   ],
   "source": [
    "len(alist)"
   ]
  },
  {
   "cell_type": "code",
   "execution_count": 7,
   "id": "49f3cf69",
   "metadata": {},
   "outputs": [
    {
     "data": {
      "text/plain": [
       "True"
      ]
     },
     "execution_count": 7,
     "metadata": {},
     "output_type": "execute_result"
    }
   ],
   "source": [
    "10 not in range(1,len(alist)+1)"
   ]
  },
  {
   "cell_type": "code",
   "execution_count": 8,
   "id": "33c5df22",
   "metadata": {},
   "outputs": [
    {
     "data": {
      "text/plain": [
       "['aa', 'CC', 'dd', 'bb']"
      ]
     },
     "execution_count": 8,
     "metadata": {},
     "output_type": "execute_result"
    }
   ],
   "source": [
    "alist"
   ]
  },
  {
   "cell_type": "code",
   "execution_count": 9,
   "id": "76274a1f",
   "metadata": {},
   "outputs": [
    {
     "data": {
      "text/plain": [
       "'CC'"
      ]
     },
     "execution_count": 9,
     "metadata": {},
     "output_type": "execute_result"
    }
   ],
   "source": [
    "alist.pop(1)"
   ]
  },
  {
   "cell_type": "code",
   "execution_count": 10,
   "id": "2942c990",
   "metadata": {},
   "outputs": [
    {
     "data": {
      "text/plain": [
       "['aa', 'dd', 'bb']"
      ]
     },
     "execution_count": 10,
     "metadata": {},
     "output_type": "execute_result"
    }
   ],
   "source": [
    "alist\n"
   ]
  },
  {
   "cell_type": "code",
   "execution_count": 11,
   "id": "d0f01d64",
   "metadata": {},
   "outputs": [
    {
     "data": {
      "text/plain": [
       "'bb'"
      ]
     },
     "execution_count": 11,
     "metadata": {},
     "output_type": "execute_result"
    }
   ],
   "source": [
    "alist[-1]"
   ]
  },
  {
   "cell_type": "markdown",
   "id": "4ec1a2d5",
   "metadata": {},
   "source": [
    "### Testing txt file handling"
   ]
  },
  {
   "cell_type": "code",
   "execution_count": 12,
   "id": "fecf6149",
   "metadata": {},
   "outputs": [],
   "source": [
    "with open('some_test.txt','w') as f:\n",
    "    f.writelines(\"This is first line\\nThis is second line\")"
   ]
  },
  {
   "cell_type": "code",
   "execution_count": 13,
   "id": "839c6748",
   "metadata": {},
   "outputs": [],
   "source": [
    "# Adding each line of the sample alist to txt\n",
    "with open('some_test.txt','w') as f:\n",
    "    for each in alist:\n",
    "        f.write(each + \"\\n\")    \n",
    "    # print(each)"
   ]
  },
  {
   "cell_type": "code",
   "execution_count": 14,
   "id": "fbbf74bf",
   "metadata": {},
   "outputs": [],
   "source": [
    "with open(\"some_test.txt\",'r') as f:\n",
    "    line=f.readlines()\n",
    "    result = [x.strip() for x in line]\n",
    "    f.close()\n",
    "    "
   ]
  },
  {
   "cell_type": "code",
   "execution_count": 15,
   "id": "493f2f32",
   "metadata": {},
   "outputs": [
    {
     "data": {
      "text/plain": [
       "['aa', 'dd', 'bb']"
      ]
     },
     "execution_count": 15,
     "metadata": {},
     "output_type": "execute_result"
    }
   ],
   "source": [
    "result"
   ]
  },
  {
   "cell_type": "code",
   "execution_count": 16,
   "id": "9862ac6a",
   "metadata": {},
   "outputs": [
    {
     "data": {
      "text/plain": [
       "list"
      ]
     },
     "execution_count": 16,
     "metadata": {},
     "output_type": "execute_result"
    }
   ],
   "source": [
    "type(result)"
   ]
  },
  {
   "cell_type": "code",
   "execution_count": 17,
   "id": "d18b680f",
   "metadata": {},
   "outputs": [],
   "source": [
    "blist = ['aa', 'CC', 'dd', 'bb']"
   ]
  },
  {
   "cell_type": "code",
   "execution_count": 18,
   "id": "5739aed5",
   "metadata": {},
   "outputs": [
    {
     "name": "stdout",
     "output_type": "stream",
     "text": [
      "0 - aa\n",
      "1 - dd\n",
      "2 - bb\n"
     ]
    }
   ],
   "source": [
    "for every,val in enumerate(alist):\n",
    "    print(f\"{every} - {val}\")"
   ]
  },
  {
   "cell_type": "code",
   "execution_count": 19,
   "id": "8dda896a",
   "metadata": {},
   "outputs": [
    {
     "name": "stdout",
     "output_type": "stream",
     "text": [
      "c:\\Users\\abhijeet.bhambere\\Desktop\\Resources\\Builder_Phase\\python-builder-projects\\App1-ToDo App Starting\n"
     ]
    }
   ],
   "source": [
    "print(os.getcwd())"
   ]
  },
  {
   "cell_type": "code",
   "execution_count": 20,
   "id": "305f90f8",
   "metadata": {},
   "outputs": [],
   "source": [
    "adct = {\"a\":11, \"b\":22,\"c\":33}"
   ]
  },
  {
   "cell_type": "code",
   "execution_count": 21,
   "id": "ebcd19be",
   "metadata": {},
   "outputs": [
    {
     "name": "stdout",
     "output_type": "stream",
     "text": [
      "a 11\n",
      "b 22\n",
      "c 33\n"
     ]
    }
   ],
   "source": [
    "for key,val in adct.items():\n",
    "    print(key,val)"
   ]
  },
  {
   "cell_type": "code",
   "execution_count": 22,
   "id": "81f391e1",
   "metadata": {},
   "outputs": [],
   "source": [
    "astr = \"an aeroplane!\""
   ]
  },
  {
   "cell_type": "code",
   "execution_count": 23,
   "id": "053b8402",
   "metadata": {},
   "outputs": [
    {
     "name": "stdout",
     "output_type": "stream",
     "text": [
      "aeroplane!\n",
      "2\n",
      "4\n"
     ]
    }
   ],
   "source": [
    "print(astr[3:])\n",
    "\n",
    "print(alist.index('bb'))\n",
    "\n",
    "print(astr.index(\"e\"))"
   ]
  },
  {
   "cell_type": "code",
   "execution_count": 24,
   "id": "ac78f984",
   "metadata": {},
   "outputs": [],
   "source": [
    "def checkif(n):\n",
    "    match n:\n",
    "        case 'aa':\n",
    "            return(\"yes\")\n",
    "        case 'z':\n",
    "            return(\"no\")\n",
    "        case _:\n",
    "            return \"not found\""
   ]
  },
  {
   "cell_type": "code",
   "execution_count": 25,
   "id": "824f7c3e",
   "metadata": {},
   "outputs": [
    {
     "data": {
      "text/plain": [
       "'yes'"
      ]
     },
     "execution_count": 25,
     "metadata": {},
     "output_type": "execute_result"
    }
   ],
   "source": [
    "checkif(n=\"aa\")"
   ]
  },
  {
   "cell_type": "code",
   "execution_count": 26,
   "id": "82f5550e",
   "metadata": {},
   "outputs": [
    {
     "name": "stdout",
     "output_type": "stream",
     "text": [
      "yes\n"
     ]
    }
   ],
   "source": [
    "match \"an aeroplane!\":\n",
    "    case 'an aeroplane!':\n",
    "        print(\"yes\")\n",
    "    case 'z':\n",
    "        print(\"no\")\n",
    "    case _:\n",
    "        print( \"not found\")"
   ]
  },
  {
   "cell_type": "code",
   "execution_count": 27,
   "id": "b1fc4ece",
   "metadata": {},
   "outputs": [
    {
     "name": "stdout",
     "output_type": "stream",
     "text": [
      "not found\n"
     ]
    }
   ],
   "source": [
    "if 'aa' in astr:\n",
    "    print(\"found\")\n",
    "else:\n",
    "    print(\"not found\")"
   ]
  },
  {
   "cell_type": "code",
   "execution_count": 28,
   "id": "02c3bc54",
   "metadata": {},
   "outputs": [],
   "source": [
    "bstr = \"99\""
   ]
  },
  {
   "cell_type": "code",
   "execution_count": 29,
   "id": "41806a9a",
   "metadata": {},
   "outputs": [
    {
     "data": {
      "text/plain": [
       "True"
      ]
     },
     "execution_count": 29,
     "metadata": {},
     "output_type": "execute_result"
    }
   ],
   "source": [
    "bstr.isdigit()"
   ]
  },
  {
   "cell_type": "code",
   "execution_count": 30,
   "id": "6e1ca52c",
   "metadata": {},
   "outputs": [],
   "source": [
    "anotherlist = ['aa', 'aa', 'bb', 'cc']"
   ]
  },
  {
   "cell_type": "code",
   "execution_count": 31,
   "id": "7746165d",
   "metadata": {},
   "outputs": [
    {
     "data": {
      "text/plain": [
       "2"
      ]
     },
     "execution_count": 31,
     "metadata": {},
     "output_type": "execute_result"
    }
   ],
   "source": [
    "anotherlist.count('aa')"
   ]
  },
  {
   "cell_type": "code",
   "execution_count": 32,
   "id": "cb703700",
   "metadata": {},
   "outputs": [],
   "source": [
    "list1 =[True, True, False]"
   ]
  },
  {
   "cell_type": "code",
   "execution_count": 33,
   "id": "9fad928e",
   "metadata": {},
   "outputs": [
    {
     "data": {
      "text/plain": [
       "2"
      ]
     },
     "execution_count": 33,
     "metadata": {},
     "output_type": "execute_result"
    }
   ],
   "source": [
    "sum(list1)\n"
   ]
  },
  {
   "cell_type": "code",
   "execution_count": 34,
   "id": "80460599",
   "metadata": {},
   "outputs": [],
   "source": [
    "import numpy as np\n",
    "import random\n",
    "import matplotlib.pyplot as plt\n",
    "import seaborn as sns\n",
    "random.seed(123)"
   ]
  },
  {
   "cell_type": "code",
   "execution_count": 35,
   "id": "4bc2cd7b",
   "metadata": {},
   "outputs": [
    {
     "data": {
      "text/plain": [
       "array([0, 1, 2, 3, 4, 5, 6, 7, 8, 9])"
      ]
     },
     "execution_count": 35,
     "metadata": {},
     "output_type": "execute_result"
    }
   ],
   "source": [
    "np.arange(10)"
   ]
  },
  {
   "cell_type": "code",
   "execution_count": 36,
   "id": "4745e798",
   "metadata": {},
   "outputs": [
    {
     "name": "stdout",
     "output_type": "stream",
     "text": [
      "[20.94, 21.57, 27.33, 21.94, 36.22, 20.69, 29.65, 25.98, 35.34, 22.87] \n",
      " 26.25\n"
     ]
    },
    {
     "data": {
      "image/png": "[encoded data removed]",
      "text/plain": [
       "<Figure size 640x480 with 1 Axes>"
      ]
     },
     "metadata": {},
     "output_type": "display_data"
    }
   ],
   "source": [
    "a = [round(random.uniform(20,38),2) for i in range(10)]\n",
    "avg = round(sum(a)/len(a),2)\n",
    "print(f\"{a} \\n {avg}\")\n",
    "sns.lineplot(a, marker=\"o\")\n",
    "plt.axhline(y=avg, linestyle='--', label=f'{avg}', color='orange')\n",
    "plt.legend()\n",
    "plt.show()"
   ]
  },
  {
   "cell_type": "code",
   "execution_count": 37,
   "id": "9b396feb",
   "metadata": {},
   "outputs": [
    {
     "data": {
      "text/plain": [
       "['aa', 'dd', 'bb']"
      ]
     },
     "execution_count": 37,
     "metadata": {},
     "output_type": "execute_result"
    }
   ],
   "source": [
    "\n",
    "alist"
   ]
  },
  {
   "cell_type": "code",
   "execution_count": 38,
   "id": "8f37f62e",
   "metadata": {},
   "outputs": [
    {
     "data": {
      "text/plain": [
       "['aa', 'dd']"
      ]
     },
     "execution_count": 38,
     "metadata": {},
     "output_type": "execute_result"
    }
   ],
   "source": [
    "alist[:2]"
   ]
  },
  {
   "cell_type": "code",
   "execution_count": 39,
   "id": "05350ee2",
   "metadata": {},
   "outputs": [
    {
     "name": "stdout",
     "output_type": "stream",
     "text": [
      "Date-15/Sep/2025 Time-10:19 AM\n"
     ]
    }
   ],
   "source": [
    "print(f\"Date-{time.strftime(\"%d/%b/%Y\")} Time-{time.strftime(\"%I:%M %p\")}\")"
   ]
  },
  {
   "cell_type": "code",
   "execution_count": 40,
   "id": "71eeb117",
   "metadata": {},
   "outputs": [
    {
     "data": {
      "text/plain": [
       "['_STRUCT_TM_ITEMS',\n",
       " '__doc__',\n",
       " '__loader__',\n",
       " '__name__',\n",
       " '__package__',\n",
       " '__spec__',\n",
       " 'altzone',\n",
       " 'asctime',\n",
       " 'ctime',\n",
       " 'daylight',\n",
       " 'get_clock_info',\n",
       " 'gmtime',\n",
       " 'localtime',\n",
       " 'mktime',\n",
       " 'monotonic',\n",
       " 'monotonic_ns',\n",
       " 'perf_counter',\n",
       " 'perf_counter_ns',\n",
       " 'process_time',\n",
       " 'process_time_ns',\n",
       " 'sleep',\n",
       " 'strftime',\n",
       " 'strptime',\n",
       " 'struct_time',\n",
       " 'thread_time',\n",
       " 'thread_time_ns',\n",
       " 'time',\n",
       " 'time_ns',\n",
       " 'timezone',\n",
       " 'tzname']"
      ]
     },
     "execution_count": 40,
     "metadata": {},
     "output_type": "execute_result"
    }
   ],
   "source": [
    "dir(time)"
   ]
  },
  {
   "cell_type": "markdown",
   "id": "adff6001",
   "metadata": {},
   "source": [
    "csv\n",
    "glob\n",
    "shutil\n",
    "webbrowser"
   ]
  },
  {
   "cell_type": "code",
   "execution_count": 43,
   "id": "ab51b86f",
   "metadata": {},
   "outputs": [],
   "source": [
    "# import webbrowser\n",
    "# userterm = input(\">>>enter search term: \")\n",
    "# webbrowser.open(url=f\"https://www.google.com/search?q=\"+userterm)"
   ]
  },
  {
   "cell_type": "code",
   "execution_count": 44,
   "id": "e5bf0cba",
   "metadata": {},
   "outputs": [
    {
     "data": {
      "text/plain": [
       "['aa', 'dd', 'bb']"
      ]
     },
     "execution_count": 44,
     "metadata": {},
     "output_type": "execute_result"
    }
   ],
   "source": [
    "alist"
   ]
  },
  {
   "cell_type": "code",
   "execution_count": 45,
   "id": "552299b8",
   "metadata": {},
   "outputs": [],
   "source": [
    "alist.remove('aa')"
   ]
  },
  {
   "cell_type": "code",
   "execution_count": 46,
   "id": "b6d505b9",
   "metadata": {},
   "outputs": [
    {
     "data": {
      "text/plain": [
       "['dd', 'bb']"
      ]
     },
     "execution_count": 46,
     "metadata": {},
     "output_type": "execute_result"
    }
   ],
   "source": [
    "alist"
   ]
  }
 ],
 "metadata": {
  "kernelspec": {
   "display_name": ".venv",
   "language": "python",
   "name": "python3"
  },
  "language_info": {
   "codemirror_mode": {
    "name": "ipython",
    "version": 3
   },
   "file_extension": ".py",
   "mimetype": "text/x-python",
   "name": "python",
   "nbconvert_exporter": "python",
   "pygments_lexer": "ipython3",
   "version": "3.13.5"
  }
 },
 "nbformat": 4,
 "nbformat_minor": 5
}
