{
 "cells": [
  {
   "cell_type": "code",
   "execution_count": 1,
   "id": "ef1ee39f",
   "metadata": {},
   "outputs": [
    {
     "data": {
      "text/plain": [
       "2"
      ]
     },
     "execution_count": 1,
     "metadata": {},
     "output_type": "execute_result"
    }
   ],
   "source": [
    "1 + 1"
   ]
  },
  {
   "cell_type": "code",
   "execution_count": 7,
   "id": "c0a2ef1f",
   "metadata": {},
   "outputs": [],
   "source": [
    "# inp = input(\"Enter value\")\n",
    "# print(f\"User entered: {inp}\")\n",
    "# print(f\"Dtype of input is: {type(inp)}\")"
   ]
  },
  {
   "cell_type": "code",
   "execution_count": 3,
   "id": "09bf4f0c",
   "metadata": {},
   "outputs": [],
   "source": [
    "alist = [\"aa\",\"CC\",\"dd\",\"bb\"]"
   ]
  },
  {
   "cell_type": "code",
   "execution_count": 4,
   "id": "472d4188",
   "metadata": {},
   "outputs": [
    {
     "data": {
      "text/plain": [
       "['CC', 'aa', 'bb', 'dd']"
      ]
     },
     "execution_count": 4,
     "metadata": {},
     "output_type": "execute_result"
    }
   ],
   "source": [
    "sorted(alist ,key= lambda x : x[0])"
   ]
  },
  {
   "cell_type": "code",
   "execution_count": 5,
   "id": "05b43a73",
   "metadata": {},
   "outputs": [
    {
     "data": {
      "text/plain": [
       "4"
      ]
     },
     "execution_count": 5,
     "metadata": {},
     "output_type": "execute_result"
    }
   ],
   "source": [
    "len(alist)"
   ]
  },
  {
   "cell_type": "code",
   "execution_count": 10,
   "id": "baa19567",
   "metadata": {},
   "outputs": [
    {
     "name": "stdout",
     "output_type": "stream",
     "text": [
      "1\n",
      "2\n",
      "3\n",
      "4\n"
     ]
    }
   ],
   "source": [
    "for each in range(1,len(alist)+1):\n",
    "    print(each)"
   ]
  },
  {
   "cell_type": "code",
   "execution_count": 14,
   "id": "49f3cf69",
   "metadata": {},
   "outputs": [
    {
     "data": {
      "text/plain": [
       "True"
      ]
     },
     "execution_count": 14,
     "metadata": {},
     "output_type": "execute_result"
    }
   ],
   "source": [
    "10 not in range(1,len(alist)+1)"
   ]
  },
  {
   "cell_type": "code",
   "execution_count": null,
   "id": "33c5df22",
   "metadata": {},
   "outputs": [],
   "source": []
  }
 ],
 "metadata": {
  "kernelspec": {
   "display_name": ".venv",
   "language": "python",
   "name": "python3"
  },
  "language_info": {
   "codemirror_mode": {
    "name": "ipython",
    "version": 3
   },
   "file_extension": ".py",
   "mimetype": "text/x-python",
   "name": "python",
   "nbconvert_exporter": "python",
   "pygments_lexer": "ipython3",
   "version": "3.13.5"
  }
 },
 "nbformat": 4,
 "nbformat_minor": 5
}
