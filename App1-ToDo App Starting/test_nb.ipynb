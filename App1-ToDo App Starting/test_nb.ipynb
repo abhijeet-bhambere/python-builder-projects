{
 "cells": [
  {
   "cell_type": "code",
   "execution_count": 1,
   "id": "ef1ee39f",
   "metadata": {},
   "outputs": [
    {
     "data": {
      "text/plain": [
       "2"
      ]
     },
     "execution_count": 1,
     "metadata": {},
     "output_type": "execute_result"
    }
   ],
   "source": [
    "1 + 1"
   ]
  },
  {
   "cell_type": "code",
   "execution_count": 5,
   "id": "c0a2ef1f",
   "metadata": {},
   "outputs": [
    {
     "name": "stdout",
     "output_type": "stream",
     "text": [
      "User entered: 1\n",
      "Dtype of input is: <class 'str'>\n"
     ]
    }
   ],
   "source": [
    "inp = input(\"Enter value\")\n",
    "print(f\"User entered: {inp}\")\n",
    "print(f\"Dtype of input is: {type(inp)}\")"
   ]
  },
  {
   "cell_type": "code",
   "execution_count": 3,
   "id": "09bf4f0c",
   "metadata": {},
   "outputs": [],
   "source": [
    "alist = [\"aa\",\"CC\",\"dd\",\"bb\"]"
   ]
  },
  {
   "cell_type": "code",
   "execution_count": 7,
   "id": "472d4188",
   "metadata": {},
   "outputs": [
    {
     "data": {
      "text/plain": [
       "['CC', 'aa', 'bb', 'dd']"
      ]
     },
     "execution_count": 7,
     "metadata": {},
     "output_type": "execute_result"
    }
   ],
   "source": [
    "sorted(alist ,key= lambda x : x[0])"
   ]
  },
  {
   "cell_type": "code",
   "execution_count": null,
   "id": "baa19567",
   "metadata": {},
   "outputs": [],
   "source": []
  },
  {
   "cell_type": "code",
   "execution_count": null,
   "id": "49f3cf69",
   "metadata": {},
   "outputs": [],
   "source": []
  }
 ],
 "metadata": {
  "kernelspec": {
   "display_name": ".venv",
   "language": "python",
   "name": "python3"
  },
  "language_info": {
   "codemirror_mode": {
    "name": "ipython",
    "version": 3
   },
   "file_extension": ".py",
   "mimetype": "text/x-python",
   "name": "python",
   "nbconvert_exporter": "python",
   "pygments_lexer": "ipython3",
   "version": "3.13.5"
  }
 },
 "nbformat": 4,
 "nbformat_minor": 5
}
